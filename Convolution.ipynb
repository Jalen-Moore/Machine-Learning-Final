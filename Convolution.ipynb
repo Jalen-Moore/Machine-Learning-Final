{
 "cells": [
  {
   "cell_type": "code",
   "execution_count": 1,
   "id": "b84787e7-2eff-42e8-8586-762097f05fef",
   "metadata": {},
   "outputs": [],
   "source": [
    "import numpy as np\n",
    "import scipy.signal"
   ]
  },
  {
   "cell_type": "code",
   "execution_count": 2,
   "id": "c92a16d1-6147-4634-9d9f-03de9e07dd11",
   "metadata": {},
   "outputs": [],
   "source": [
    "# Method for convolutions in 1-dimension\n",
    "def conv1D(X, W, p=0, s=1):\n",
    "\n",
    "    W_rotated = np.array(W[::-1])    # Rotate the kernel horizontally\n",
    "    X_padded = np.array(X)\n",
    "    \n",
    "    # Pad the signal with 0's on both ends\n",
    "    if p > 0:\n",
    "        zero_pad = np.zeros(shape=p)\n",
    "        X_padded = np.concatenate([zero_pad, X_padded, zero_pad])\n",
    "\n",
    "    result = []                      # Stores the result of the convolution\n",
    "\n",
    "    # Shift the kernel over the signal by the stride\n",
    "    for i in range(0, int(len(X) / s), s):\n",
    "        result.append(np.sum(X_padded[i:i + W_rotated.shape[0]] * W_rotated))\n",
    "\n",
    "    return np.array(result)"
   ]
  },
  {
   "cell_type": "code",
   "execution_count": 7,
   "id": "158e9992-777a-46f2-9a2c-3a5f259ceefd",
   "metadata": {},
   "outputs": [
    {
     "name": "stdout",
     "output_type": "stream",
     "text": [
      "Convolution (1D) Implementation: [ 5. 14. 16. 26. 24. 34. 19. 22.]\n",
      "NumPy Results: [ 5 14 16 26 24 34 19 22]\n"
     ]
    }
   ],
   "source": [
    "# Create a test signal and kernel and test the method against NumPy\n",
    "X = [1, 3, 2, 4, 5, 6, 1, 3]\n",
    "W = [1, 0, 3, 1, 2]\n",
    "\n",
    "print(\"Convolution (1D) Implementation:\", conv1D(X, W, p=2, s=1))\n",
    "print(\"NumPy Results:\", np.convolve(X, W, mode=\"same\"))"
   ]
  },
  {
   "cell_type": "code",
   "execution_count": 9,
   "id": "4d52b7fa-1f55-4628-8f45-62e97fec6ecb",
   "metadata": {},
   "outputs": [],
   "source": [
    "# Method for convolution in 2-dimensions\n",
    "def conv2D(X, W, p=(0, 0), s=(1, 1)):\n",
    "\n",
    "    W_rotated = np.array(W)[::-1, ::-1]    # Rotate the kernel horizontally and vertically\n",
    "    X_original = np.array(X)\n",
    "\n",
    "    # Get the dimensions for the padded signal\n",
    "    n1 = X_original.shape[0] + (2 * p[0])\n",
    "    n2 = X_original.shape[1] + (2 * p[1])\n",
    "\n",
    "    # Pad the signal with 0's on all sides\n",
    "    X_padded = np.zeros(shape=(n1, n2))\n",
    "    X_padded[p[0]:p[0] + X_original.shape[0], p[1]:p[1] + X_original.shape[1]] = X_original\n",
    "\n",
    "    result = []                            # Stores the result of the convolution\n",
    "\n",
    "    # Shift the kernel over the signal horizontally by the stride\n",
    "    for i in range(0, int((X_padded.shape[0] - W_rotated.shape[0]) / s[0]) + 1, s[0]):\n",
    "        result.append([])\n",
    "\n",
    "        # Shift the kernel over the signal vertically by the stride\n",
    "        for j in range(0, int((X_padded.shape[1] - W_rotated.shape[1]) / s[1]) + 1, s[1]):\n",
    "            X_sub = X_padded[i:i + W_rotated.shape[0], j:j + W_rotated.shape[1]]\n",
    "            result[-1].append(np.sum(X_sub * W_rotated))\n",
    "\n",
    "    return np.array(result)"
   ]
  },
  {
   "cell_type": "code",
   "execution_count": 12,
   "id": "c2ef0b5a-541b-4d26-8042-5cc7205c2721",
   "metadata": {},
   "outputs": [
    {
     "name": "stdout",
     "output_type": "stream",
     "text": [
      "Convolution (1D) Implementation:\n",
      " [[11. 25. 32. 13.]\n",
      " [19. 25. 24. 13.]\n",
      " [13. 28. 25. 17.]\n",
      " [11. 17. 14.  9.]]\n",
      "\n",
      "SciPy Results:\n",
      " [[11 25 32 13]\n",
      " [19 25 24 13]\n",
      " [13 28 25 17]\n",
      " [11 17 14  9]]\n"
     ]
    }
   ],
   "source": [
    "# Create a test signal and kernel and test the method against SciPy\n",
    "X = [[1, 3, 2, 4], [5, 6, 1, 3], [1, 2, 0, 2], [3, 4, 3, 2]]\n",
    "W = [[1, 0, 3], [1, 2, 1], [0, 1, 1]]\n",
    "\n",
    "print(\"Convolution (1D) Implementation:\\n\", conv2D(X, W, p=(1, 1), s=(1, 1)))\n",
    "print(\"\\nSciPy Results:\\n\", scipy.signal.convolve2d(X, W, mode=\"same\"))"
   ]
  }
 ],
 "metadata": {
  "kernelspec": {
   "display_name": "Python 3 (ipykernel)",
   "language": "python",
   "name": "python3"
  },
  "language_info": {
   "codemirror_mode": {
    "name": "ipython",
    "version": 3
   },
   "file_extension": ".py",
   "mimetype": "text/x-python",
   "name": "python",
   "nbconvert_exporter": "python",
   "pygments_lexer": "ipython3",
   "version": "3.11.7"
  }
 },
 "nbformat": 4,
 "nbformat_minor": 5
}
